{
 "cells": [
  {
   "cell_type": "code",
   "execution_count": 1,
   "metadata": {
    "collapsed": true,
    "ExecuteTime": {
     "start_time": "2023-09-15T12:40:26.409862Z",
     "end_time": "2023-09-15T12:40:26.825710Z"
    }
   },
   "outputs": [],
   "source": [
    "import os\n",
    "import copy\n",
    "import glob\n",
    "import pandas as pd\n",
    "\n",
    "from IPython.display import display"
   ]
  },
  {
   "cell_type": "code",
   "execution_count": 2,
   "outputs": [],
   "source": [
    "data_path = 'D:/Projects/masters_diploma/data'\n",
    "\n",
    "raw_data_path = os.path.join(data_path, 'raw')\n",
    "processed_data_path = os.path.join(data_path, 'processed')\n",
    "os.makedirs(processed_data_path, exist_ok=True)\n",
    "\n",
    "emo_react_raw_path = os.path.join(raw_data_path, 'EmoReact')\n",
    "emo_react_processed_path = os.path.join(processed_data_path, 'EmoReact')\n",
    "os.makedirs(emo_react_processed_path, exist_ok=True)\n",
    "\n",
    "labels_path = os.path.join(emo_react_raw_path, 'labels')\n",
    "videos_path = os.path.join(emo_react_raw_path, 'videos')\n",
    "visual_features_path = os.path.join(emo_react_raw_path, 'visual_features')\n",
    "\n",
    "datasets_path = os.path.join(emo_react_processed_path, 'datasets')\n",
    "os.makedirs(datasets_path, exist_ok=True)"
   ],
   "metadata": {
    "collapsed": false,
    "ExecuteTime": {
     "start_time": "2023-09-15T12:40:26.831709Z",
     "end_time": "2023-09-15T12:40:26.840705Z"
    }
   }
  },
  {
   "cell_type": "code",
   "execution_count": 3,
   "outputs": [],
   "source": [
    "def clean_string(input_string: str) -> str:\n",
    "    # Replace double quotes with a placeholder\n",
    "    cleaned_string = input_string.replace(\"''\", \"PLACEHOLDER\")\n",
    "\n",
    "    # Remove single quotes\n",
    "    cleaned_string = cleaned_string.replace(\"'\", \"\")\n",
    "\n",
    "    # Replace placeholder with single quotes\n",
    "    cleaned_string = cleaned_string.replace(\"PLACEHOLDER\", \"'\")\n",
    "\n",
    "    return cleaned_string\n",
    "\n",
    "def combine_path_names(_name: str, _path: str) -> str:\n",
    "    return os.path.abspath(os.path.join(_path, _name))"
   ],
   "metadata": {
    "collapsed": false,
    "ExecuteTime": {
     "start_time": "2023-09-15T12:40:26.846709Z",
     "end_time": "2023-09-15T12:40:26.863707Z"
    }
   }
  },
  {
   "cell_type": "code",
   "execution_count": 4,
   "outputs": [],
   "source": [
    "headers = ['Curiosity', 'Uncertainty', 'Excitement', 'Happiness',\n",
    "           'Surprise', 'Disgust', 'Fear', 'Frustration', 'Valence']\n",
    "\n",
    "types_of_data_to_process = ['videos', 'visual_features']\n",
    "\n",
    "for file_path in glob.glob(os.path.join(emo_react_raw_path, '*_names.txt')):\n",
    "    # file_path = 'D:/Projects/masters_diploma/data/raw/EmoReact/train_names.txt'\n",
    "    df = pd.read_csv(file_path, header=None, names=['filename'])\n",
    "    df['filename'] = df['filename'].apply(clean_string)\n",
    "\n",
    "    labels_df = pd.read_csv(os.path.join(labels_path, os.path.basename(file_path).split(\"_\")[0] + '_labels.txt'),\n",
    "                            header=None, names=headers)\n",
    "\n",
    "    concat_df = pd.concat([df, labels_df], axis=1)\n",
    "    concat_df = concat_df.rename(columns={'filename': 'file_path'})\n",
    "    for data_type in types_of_data_to_process:\n",
    "        path_to_save = os.path.join(datasets_path, data_type)\n",
    "        os.makedirs(path_to_save, exist_ok=True)\n",
    "\n",
    "        df_type = copy.deepcopy(concat_df)\n",
    "\n",
    "        if data_type == 'videos':\n",
    "            df_type[\"file_path\"] = df_type[\"file_path\"].apply(\n",
    "                combine_path_names,\n",
    "                _path=os.path.join(videos_path, os.path.basename(file_path).split(\"_\")[0])\n",
    "            )\n",
    "        else:\n",
    "            df_type[\"file_path\"] = df_type[\"file_path\"].apply(\n",
    "                combine_path_names,\n",
    "                _path=os.path.join(visual_features_path, os.path.basename(file_path).split(\"_\")[0])\n",
    "            )\n",
    "\n",
    "        df_type.to_csv(os.path.join(path_to_save, os.path.basename(file_path).split(\"_\")[0] + \".csv\"),\n",
    "                       index=False)\n"
   ],
   "metadata": {
    "collapsed": false,
    "ExecuteTime": {
     "start_time": "2023-09-15T12:40:26.857705Z",
     "end_time": "2023-09-15T12:40:27.243131Z"
    }
   }
  },
  {
   "cell_type": "code",
   "execution_count": 4,
   "outputs": [],
   "source": [],
   "metadata": {
    "collapsed": false,
    "ExecuteTime": {
     "start_time": "2023-09-15T12:40:27.242130Z",
     "end_time": "2023-09-15T12:40:27.258488Z"
    }
   }
  }
 ],
 "metadata": {
  "kernelspec": {
   "display_name": "Python 3",
   "language": "python",
   "name": "python3"
  },
  "language_info": {
   "codemirror_mode": {
    "name": "ipython",
    "version": 2
   },
   "file_extension": ".py",
   "mimetype": "text/x-python",
   "name": "python",
   "nbconvert_exporter": "python",
   "pygments_lexer": "ipython2",
   "version": "2.7.6"
  }
 },
 "nbformat": 4,
 "nbformat_minor": 0
}
